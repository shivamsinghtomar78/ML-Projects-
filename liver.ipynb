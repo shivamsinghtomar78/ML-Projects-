{
  "nbformat": 4,
  "nbformat_minor": 0,
  "metadata": {
    "colab": {
      "provenance": [],
      "authorship_tag": "ABX9TyNJC3Pf9kDurADzlKCAF2od",
      "include_colab_link": true
    },
    "kernelspec": {
      "name": "python3",
      "display_name": "Python 3"
    },
    "language_info": {
      "name": "python"
    }
  },
  "cells": [
    {
      "cell_type": "markdown",
      "metadata": {
        "id": "view-in-github",
        "colab_type": "text"
      },
      "source": [
        "<a href=\"https://colab.research.google.com/github/shivamsinghtomar78/ML-Projects-/blob/main/liver.ipynb\" target=\"_parent\"><img src=\"https://colab.research.google.com/assets/colab-badge.svg\" alt=\"Open In Colab\"/></a>"
      ]
    },
    {
      "cell_type": "code",
      "source": [
        " !pip install xgboost"
      ],
      "metadata": {
        "colab": {
          "base_uri": "https://localhost:8080/"
        },
        "id": "OUBIaytHJ9Bj",
        "outputId": "4855d598-560b-46a3-f023-f7bc1a9efb2c"
      },
      "execution_count": 30,
      "outputs": [
        {
          "output_type": "stream",
          "name": "stdout",
          "text": [
            "Requirement already satisfied: xgboost in /usr/local/lib/python3.10/dist-packages (2.1.3)\n",
            "Requirement already satisfied: numpy in /usr/local/lib/python3.10/dist-packages (from xgboost) (1.26.4)\n",
            "Requirement already satisfied: nvidia-nccl-cu12 in /usr/local/lib/python3.10/dist-packages (from xgboost) (2.23.4)\n",
            "Requirement already satisfied: scipy in /usr/local/lib/python3.10/dist-packages (from xgboost) (1.13.1)\n"
          ]
        }
      ]
    },
    {
      "cell_type": "code",
      "source": [
        "import pandas as pd\n",
        "import numpy as np\n",
        "from sklearn.model_selection import train_test_split\n",
        "from sklearn.preprocessing import StandardScaler\n",
        "from sklearn.impute import SimpleImputer\n",
        "from sklearn.ensemble import RandomForestClassifier, GradientBoostingClassifier\n",
        "from sklearn.metrics import accuracy_score, classification_report\n",
        "from sklearn.svm import SVC\n",
        "from xgboost import XGBClassifier"
      ],
      "metadata": {
        "id": "d7W2hUivNA0f"
      },
      "execution_count": 45,
      "outputs": []
    },
    {
      "cell_type": "code",
      "source": [
        "# loading the csv data to a Pandas DataFrame\n",
        "data = pd.read_csv('/content/liver.csv')"
      ],
      "metadata": {
        "id": "FJHTBATx-RxI"
      },
      "execution_count": 46,
      "outputs": []
    },
    {
      "cell_type": "code",
      "source": [
        "# Basic preprocessing\n",
        "data['is_patient'] = data['is_patient'].replace({2: 0})"
      ],
      "metadata": {
        "id": "GsqNT1FyNHR7"
      },
      "execution_count": 47,
      "outputs": []
    },
    {
      "cell_type": "code",
      "source": [
        "# Select important features\n",
        "features = [\n",
        "    'tot_bilirubin',\n",
        "    'direct_bilirubin',\n",
        "    'sgpt',\n",
        "    'sgot',\n",
        "    'alkphos',\n",
        "    'albumin',\n",
        "    'ag_ratio',\n",
        "    'tot_proteins'\n",
        "]"
      ],
      "metadata": {
        "id": "zVn-lxuYNJRF"
      },
      "execution_count": 48,
      "outputs": []
    },
    {
      "cell_type": "code",
      "source": [
        "X = data[features]\n",
        "y = data['is_patient']"
      ],
      "metadata": {
        "id": "qjD-KpzHNLYd"
      },
      "execution_count": 49,
      "outputs": []
    },
    {
      "cell_type": "code",
      "source": [
        "# Split the data first (to prevent data leakage)\n",
        "X_train, X_test, y_train, y_test = train_test_split(\n",
        "    X, y, test_size=0.2, random_state=42, stratify=y\n",
        ")"
      ],
      "metadata": {
        "id": "FuxBbGvKNXuv"
      },
      "execution_count": 50,
      "outputs": []
    },
    {
      "cell_type": "code",
      "source": [
        "# Create and fit imputer for missing values\n",
        "imputer = SimpleImputer(strategy='median')\n",
        "X_train_imputed = imputer.fit_transform(X_train)\n",
        "X_test_imputed = imputer.transform(X_test)"
      ],
      "metadata": {
        "id": "mt1yvgitNaH5"
      },
      "execution_count": 51,
      "outputs": []
    },
    {
      "cell_type": "code",
      "source": [
        "# Scale the features\n",
        "scaler = StandardScaler()\n",
        "X_train_scaled = scaler.fit_transform(X_train_imputed)\n",
        "X_test_scaled = scaler.transform(X_test_imputed)"
      ],
      "metadata": {
        "id": "H8m9jXAqNc3v"
      },
      "execution_count": 52,
      "outputs": []
    },
    {
      "cell_type": "code",
      "source": [
        "# Dictionary to store models\n",
        "models = {\n",
        "    'SVM': SVC(\n",
        "        kernel='rbf',\n",
        "        C=10,\n",
        "        gamma='scale',\n",
        "        class_weight='balanced',\n",
        "        random_state=42\n",
        "    ),\n",
        "    'Random Forest': RandomForestClassifier(\n",
        "        n_estimators=200,\n",
        "        max_depth=6,\n",
        "        min_samples_split=5,\n",
        "        min_samples_leaf=2,\n",
        "        class_weight='balanced',\n",
        "        random_state=42\n",
        "    ),\n",
        "    'Gradient Boosting': GradientBoostingClassifier(\n",
        "        n_estimators=100,\n",
        "        learning_rate=0.1,\n",
        "        max_depth=3,\n",
        "        min_samples_split=5,\n",
        "        random_state=42\n",
        "    ),\n",
        "    'XGBoost': XGBClassifier(\n",
        "        n_estimators=100,\n",
        "        max_depth=3,\n",
        "        learning_rate=0.1,\n",
        "        scale_pos_weight=2,\n",
        "        random_state=42,\n",
        "        use_label_encoder=False,\n",
        "        eval_metric='logloss'\n",
        "    )\n",
        "}"
      ],
      "metadata": {
        "id": "yreePvYXNfya"
      },
      "execution_count": 53,
      "outputs": []
    },
    {
      "cell_type": "code",
      "source": [
        "\n",
        "# Train and evaluate each model\n",
        "results = {}\n",
        "for name, model in models.items():\n",
        "    # Train model\n",
        "    model.fit(X_train_scaled, y_train)\n",
        "\n",
        "    # Make predictions\n",
        "    y_pred = model.predict(X_test_scaled)\n",
        "\n",
        "    # Calculate accuracy\n",
        "    accuracy = accuracy_score(y_test, y_pred)\n",
        "    results[name] = accuracy\n",
        "\n",
        "    # Print results\n",
        "    print(f\"\\n{name} Results:\")\n",
        "    print(f\"Accuracy: {accuracy:.2f}\")\n",
        "    print(\"\\nClassification Report:\")\n",
        "    print(classification_report(y_test, y_pred))"
      ],
      "metadata": {
        "colab": {
          "base_uri": "https://localhost:8080/"
        },
        "id": "lZkSClZNNjMe",
        "outputId": "556adbfa-2553-4b88-8122-c430a8a481a2"
      },
      "execution_count": 54,
      "outputs": [
        {
          "output_type": "stream",
          "name": "stdout",
          "text": [
            "\n",
            "SVM Results:\n",
            "Accuracy: 0.72\n",
            "\n",
            "Classification Report:\n",
            "              precision    recall  f1-score   support\n",
            "\n",
            "           0       0.51      0.94      0.66        34\n",
            "           1       0.96      0.63      0.76        83\n",
            "\n",
            "    accuracy                           0.72       117\n",
            "   macro avg       0.74      0.78      0.71       117\n",
            "weighted avg       0.83      0.72      0.73       117\n",
            "\n",
            "\n",
            "Random Forest Results:\n",
            "Accuracy: 0.73\n",
            "\n",
            "Classification Report:\n",
            "              precision    recall  f1-score   support\n",
            "\n",
            "           0       0.52      0.71      0.60        34\n",
            "           1       0.86      0.73      0.79        83\n",
            "\n",
            "    accuracy                           0.73       117\n",
            "   macro avg       0.69      0.72      0.70       117\n",
            "weighted avg       0.76      0.73      0.74       117\n",
            "\n",
            "\n",
            "Gradient Boosting Results:\n",
            "Accuracy: 0.71\n",
            "\n",
            "Classification Report:\n",
            "              precision    recall  f1-score   support\n",
            "\n",
            "           0       0.50      0.26      0.35        34\n",
            "           1       0.75      0.89      0.81        83\n",
            "\n",
            "    accuracy                           0.71       117\n",
            "   macro avg       0.62      0.58      0.58       117\n",
            "weighted avg       0.68      0.71      0.68       117\n",
            "\n"
          ]
        },
        {
          "output_type": "stream",
          "name": "stderr",
          "text": [
            "/usr/local/lib/python3.10/dist-packages/xgboost/core.py:158: UserWarning: [17:58:37] WARNING: /workspace/src/learner.cc:740: \n",
            "Parameters: { \"use_label_encoder\" } are not used.\n",
            "\n",
            "  warnings.warn(smsg, UserWarning)\n"
          ]
        },
        {
          "output_type": "stream",
          "name": "stdout",
          "text": [
            "\n",
            "XGBoost Results:\n",
            "Accuracy: 0.69\n",
            "\n",
            "Classification Report:\n",
            "              precision    recall  f1-score   support\n",
            "\n",
            "           0       0.33      0.06      0.10        34\n",
            "           1       0.71      0.95      0.81        83\n",
            "\n",
            "    accuracy                           0.69       117\n",
            "   macro avg       0.52      0.51      0.46       117\n",
            "weighted avg       0.60      0.69      0.61       117\n",
            "\n"
          ]
        }
      ]
    },
    {
      "cell_type": "code",
      "source": [
        "# Find best model\n",
        "best_model = max(results.items(), key=lambda x: x[1])\n",
        "print(f\"\\nBest performing model: {best_model[0]} with accuracy: {best_model[1]:.2f}\")\n",
        "\n",
        "# Print feature importance for Random Forest\n",
        "rf_model = models['Random Forest']\n",
        "importance = pd.DataFrame({\n",
        "    'feature': features,\n",
        "    'importance': rf_model.feature_importances_\n",
        "})\n",
        "print(\"\\nFeature Importance (Random Forest):\")\n",
        "print(importance.sort_values('importance', ascending=False))\n",
        "\n",
        "# Print dataset information\n",
        "print(\"\\nDataset Information:\")\n",
        "print(f\"Total samples: {len(X)}\")\n",
        "print(f\"Training samples: {len(X_train)}\")\n",
        "print(f\"Testing samples: {len(X_test)}\")"
      ],
      "metadata": {
        "colab": {
          "base_uri": "https://localhost:8080/"
        },
        "id": "QkdjjgKINnOU",
        "outputId": "31620bee-9892-4d47-9862-0406b279f0bc"
      },
      "execution_count": 55,
      "outputs": [
        {
          "output_type": "stream",
          "name": "stdout",
          "text": [
            "\n",
            "Best performing model: Random Forest with accuracy: 0.73\n",
            "\n",
            "Feature Importance (Random Forest):\n",
            "            feature  importance\n",
            "7      tot_proteins    0.174808\n",
            "5           albumin    0.161123\n",
            "0     tot_bilirubin    0.150104\n",
            "6          ag_ratio    0.145571\n",
            "1  direct_bilirubin    0.144078\n",
            "3              sgot    0.085725\n",
            "2              sgpt    0.074194\n",
            "4           alkphos    0.064398\n",
            "\n",
            "Dataset Information:\n",
            "Total samples: 583\n",
            "Training samples: 466\n",
            "Testing samples: 117\n"
          ]
        }
      ]
    },
    {
      "cell_type": "code",
      "source": [
        "import pickle"
      ],
      "metadata": {
        "id": "pGodJLPnNsby"
      },
      "execution_count": 56,
      "outputs": []
    },
    {
      "cell_type": "code",
      "source": [
        "filename = 'liver_model.pkl'"
      ],
      "metadata": {
        "id": "0myhnEl5OJ6x"
      },
      "execution_count": 57,
      "outputs": []
    },
    {
      "cell_type": "code",
      "source": [
        "pickle.dump(model, open(filename, 'wb'))"
      ],
      "metadata": {
        "id": "jrr7KaBHOL5Z"
      },
      "execution_count": 58,
      "outputs": []
    },
    {
      "cell_type": "code",
      "source": [],
      "metadata": {
        "id": "3bf3C2PrOPPh"
      },
      "execution_count": null,
      "outputs": []
    }
  ]
}